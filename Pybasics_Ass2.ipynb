{
 "cells": [
  {
   "cell_type": "markdown",
   "id": "c33a4829",
   "metadata": {},
   "source": [
    "1. What are the two values of the Boolean data type? How do you write them?\n",
    "\n",
    "Ans - Boolean data type has 2 values - True and False. They are written as \n",
    "\n",
    "      1) True\n",
    "      \n",
    "      2) False"
   ]
  },
  {
   "cell_type": "markdown",
   "id": "9cfdee65",
   "metadata": {},
   "source": [
    "2. What are the three different types of Boolean operators?\n",
    "\n",
    "Ans - AND\n",
    "\n",
    "      OR\n",
    "      \n",
    "      NOT"
   ]
  },
  {
   "cell_type": "markdown",
   "id": "9a215fe9",
   "metadata": {},
   "source": [
    "3. Make a list of each Boolean operator's truth tables (i.e. every possible combination of Boolean values for the operator and what it evaluate ).\n",
    "\n",
    "Ans - \n",
    "AND\n",
    "\n",
    "0 0  0\n",
    "\n",
    "0 1  0\n",
    "\n",
    "1 0  0\n",
    "\n",
    "1 1  1\n",
    "\n",
    "OR\n",
    "\n",
    "0 0  0\n",
    "\n",
    "0 1  1\n",
    "\n",
    "1 0  1\n",
    "\n",
    "1 1  1\n",
    "\n",
    "NOT\n",
    "\n",
    "0  1\n",
    "\n",
    "1  0"
   ]
  },
  {
   "cell_type": "markdown",
   "id": "15e093f4",
   "metadata": {},
   "source": [
    "4. What are the values of the following expressions?\n",
    "\n",
    "1. (5 > 4) and (3 == 5)\n",
    "\n",
    "Ans - False\n",
    "2. not (5 > 4)\n",
    "\n",
    "\n",
    "Ans - False\n",
    "\n",
    "3. (5 > 4) or (3 == 5)\n",
    "\n",
    "Ans - True\n",
    "\n",
    "4. not ((5 > 4) or (3 == 5))\n",
    "\n",
    "Ans - False\n",
    "\n",
    "5. (True and True) and (True == False)\n",
    "\n",
    "Ans - False\n",
    "\n",
    "6. (not False) or (not True)\n",
    "\n",
    "Ans - True"
   ]
  },
  {
   "cell_type": "markdown",
   "id": "1b7afd4f",
   "metadata": {},
   "source": [
    "5. What are the six comparison operators?\n",
    "\n",
    "Ans - 1. Less than >\n",
    "\n",
    "      2. Less than equal to <=\n",
    "      \n",
    "      3. More than >\n",
    "      \n",
    "      4. More than equal to >=\n",
    "      \n",
    "      5. equal to ==\n",
    "      \n",
    "      6. not equal to !="
   ]
  },
  {
   "cell_type": "markdown",
   "id": "d745cf15",
   "metadata": {},
   "source": [
    "6. How do you tell the difference between the equal to and assignment operators?Describe a condition and when you would use one.\n",
    "\n",
    "Ans - The “ = ” is an assignment operator is used to assign the value on the right of \" = \" to the variable on the left of \" = \" .\n",
    "\n",
    "Eg. Assignment operator\n",
    "\n",
    "a = 10\n",
    "\n",
    "b = 20\n",
    "\n",
    "c = 'z'\n",
    "\n",
    "Eg. Equal to\n",
    "\n",
    "5==5\n",
    "\n",
    "This will return True ."
   ]
  },
  {
   "cell_type": "markdown",
   "id": "f66d81b3",
   "metadata": {},
   "source": [
    "7. Identify the three blocks in this code:\n",
    "\n",
    "spam = 0\n",
    "\n",
    "if spam == 10:\n",
    "\n",
    "print('eggs')\n",
    "\n",
    "if spam > 5:\n",
    "\n",
    "print('bacon')\n",
    "\n",
    "else:\n",
    "\n",
    "print('ham')\n",
    "\n",
    "print('spam')\n",
    "\n",
    "print('spam')\n",
    "\n",
    "Ans - This block of code will give error because , their is no indentation in if and else blocks."
   ]
  },
  {
   "cell_type": "markdown",
   "id": "b438e759",
   "metadata": {},
   "source": [
    "8. Write code that prints Hello if 1 is stored in spam, prints Howdy if 2 is stored in spam, and prints Greetings! if anything else is stored in spam.\n",
    "\n",
    "Ans - "
   ]
  },
  {
   "cell_type": "code",
   "execution_count": null,
   "id": "800159c6",
   "metadata": {},
   "outputs": [],
   "source": [
    "# Answer for Q8\n",
    "spam = input(\"Enter data \")\n",
    "if spam == 1 or spam == \"1\":\n",
    "    print(\"Hello\")\n",
    "elif spam == 2 or spam == \"2\":\n",
    "    print(\"Howdy\")\n",
    "else:\n",
    "    print(\"Greetings!\")"
   ]
  },
  {
   "cell_type": "markdown",
   "id": "3ddbea97",
   "metadata": {},
   "source": [
    "9. If your programme is stuck in an endless loop, what keys you’ll press?\n",
    "\n",
    "Ans - CTRL + C"
   ]
  },
  {
   "cell_type": "markdown",
   "id": "850abb29",
   "metadata": {},
   "source": [
    "10. How can you tell the difference between break and continue?\n",
    "\n",
    "Ans - When break keywoed comes it terminates the on going loop and passes the control to next loop or main body. While when continue keyword comes it skips the going iteration and excutes the next coming iteration."
   ]
  },
  {
   "cell_type": "markdown",
   "id": "61d2065e",
   "metadata": {},
   "source": [
    "11. In a for loop, what is the difference between range(10), range(0, 10), and range(0, 10, 1)?\n",
    "\n",
    "Ans - All the 3 returns the sequence if numbers from 0 to 10 excluding 10. Thus , thir is no difference among 3 of them."
   ]
  },
  {
   "cell_type": "markdown",
   "id": "7f4a9c9d",
   "metadata": {},
   "source": [
    "12. Write a short program that prints the numbers 1 to 10 using a for loop. Then write an equivalent program that prints the numbers 1 to 10 using a while loop.\n",
    "\n",
    "Ans -"
   ]
  },
  {
   "cell_type": "code",
   "execution_count": null,
   "id": "fe78f32e",
   "metadata": {},
   "outputs": [],
   "source": [
    "# Answer for q12 using for loop\n",
    "for i in range(10):\n",
    "    print(i+1)"
   ]
  },
  {
   "cell_type": "code",
   "execution_count": null,
   "id": "2d6cf909",
   "metadata": {},
   "outputs": [],
   "source": [
    "# Answer for q12 using while loop\n",
    "a = 1 \n",
    "while a <= 10:\n",
    "    print(a)\n",
    "    a = a + 1"
   ]
  },
  {
   "cell_type": "markdown",
   "id": "f5518b94",
   "metadata": {},
   "source": [
    "13. If you had a function named bacon() inside a module named spam, how would you call it after importing spam?\n",
    "\n",
    "Ans - spam.bacon()"
   ]
  },
  {
   "cell_type": "code",
   "execution_count": null,
   "id": "220c5305",
   "metadata": {},
   "outputs": [],
   "source": []
  }
 ],
 "metadata": {
  "kernelspec": {
   "display_name": "Python 3 (ipykernel)",
   "language": "python",
   "name": "python3"
  },
  "language_info": {
   "codemirror_mode": {
    "name": "ipython",
    "version": 3
   },
   "file_extension": ".py",
   "mimetype": "text/x-python",
   "name": "python",
   "nbconvert_exporter": "python",
   "pygments_lexer": "ipython3",
   "version": "3.9.12"
  }
 },
 "nbformat": 4,
 "nbformat_minor": 5
}
